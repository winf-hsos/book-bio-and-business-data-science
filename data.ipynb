{
  "cells": [
    {
      "cell_type": "markdown",
      "metadata": {},
      "source": [
        "# Data\n",
        "\n",
        "\n",
        "```{sql}\n",
        "#| eval:false\n",
        "\n",
        "select * from food_facts;\n",
        "\n",
        "```"
      ],
      "id": "cfbb3096"
    }
  ],
  "metadata": {
    "kernelspec": {
      "display_name": "Python 3",
      "language": "python",
      "name": "python3"
    }
  },
  "nbformat": 4,
  "nbformat_minor": 5
}